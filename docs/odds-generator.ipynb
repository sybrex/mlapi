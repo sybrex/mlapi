{
 "cells": [
  {
   "cell_type": "markdown",
   "metadata": {},
   "source": [
    "# Odds generator (Double Chance Full Time 1/2)"
   ]
  },
  {
   "cell_type": "code",
   "execution_count": 213,
   "metadata": {},
   "outputs": [],
   "source": [
    "from fastai.tabular import *"
   ]
  },
  {
   "cell_type": "code",
   "execution_count": 214,
   "metadata": {},
   "outputs": [],
   "source": [
    "path = Path('./')\n",
    "df = pd.read_csv(path/'bigdata.csv', sep=';')"
   ]
  },
  {
   "cell_type": "code",
   "execution_count": 215,
   "metadata": {
    "scrolled": true
   },
   "outputs": [
    {
     "data": {
      "text/html": [
       "<div>\n",
       "<style scoped>\n",
       "    .dataframe tbody tr th:only-of-type {\n",
       "        vertical-align: middle;\n",
       "    }\n",
       "\n",
       "    .dataframe tbody tr th {\n",
       "        vertical-align: top;\n",
       "    }\n",
       "\n",
       "    .dataframe thead th {\n",
       "        text-align: right;\n",
       "    }\n",
       "</style>\n",
       "<table border=\"1\" class=\"dataframe\">\n",
       "  <thead>\n",
       "    <tr style=\"text-align: right;\">\n",
       "      <th></th>\n",
       "      <th>ID</th>\n",
       "      <th>MRFT_HOME</th>\n",
       "      <th>MRFT_DRAW</th>\n",
       "      <th>MRFT_AWAY</th>\n",
       "      <th>OUFT2.5_OVER</th>\n",
       "      <th>OUFT2.5_UNDER</th>\n",
       "      <th>BTS_YES</th>\n",
       "      <th>BTS_NO</th>\n",
       "      <th>MRHT_HOME</th>\n",
       "      <th>MRHT_DRAW</th>\n",
       "      <th>MRHT_AWAY</th>\n",
       "      <th>MRSH_HOME</th>\n",
       "      <th>MRSH_DRAW</th>\n",
       "      <th>MRSH_AWAY</th>\n",
       "      <th>DCFT_HOME_AWAY</th>\n",
       "      <th>DCFT_HOME_DRAW</th>\n",
       "      <th>DCFT_DRAW_AWAY</th>\n",
       "    </tr>\n",
       "  </thead>\n",
       "  <tbody>\n",
       "    <tr>\n",
       "      <td>0</td>\n",
       "      <td>5a22b9dd1d14229d5d8b4569</td>\n",
       "      <td>1.63</td>\n",
       "      <td>3.90</td>\n",
       "      <td>4.30</td>\n",
       "      <td>1.52</td>\n",
       "      <td>2.27</td>\n",
       "      <td>1.58</td>\n",
       "      <td>2.13</td>\n",
       "      <td>2.10</td>\n",
       "      <td>2.47</td>\n",
       "      <td>4.50</td>\n",
       "      <td>1.90</td>\n",
       "      <td>2.76</td>\n",
       "      <td>4.25</td>\n",
       "      <td>1.21</td>\n",
       "      <td>1.18</td>\n",
       "      <td>2.11</td>\n",
       "    </tr>\n",
       "    <tr>\n",
       "      <td>1</td>\n",
       "      <td>5942651c1d1422030c8b4586</td>\n",
       "      <td>6.00</td>\n",
       "      <td>3.70</td>\n",
       "      <td>1.62</td>\n",
       "      <td>1.96</td>\n",
       "      <td>1.81</td>\n",
       "      <td>1.94</td>\n",
       "      <td>1.80</td>\n",
       "      <td>5.80</td>\n",
       "      <td>2.22</td>\n",
       "      <td>2.08</td>\n",
       "      <td>5.60</td>\n",
       "      <td>2.59</td>\n",
       "      <td>1.92</td>\n",
       "      <td>1.27</td>\n",
       "      <td>2.28</td>\n",
       "      <td>1.12</td>\n",
       "    </tr>\n",
       "    <tr>\n",
       "      <td>2</td>\n",
       "      <td>5942651c1d1422030c8b4587</td>\n",
       "      <td>2.30</td>\n",
       "      <td>3.15</td>\n",
       "      <td>3.30</td>\n",
       "      <td>1.96</td>\n",
       "      <td>1.81</td>\n",
       "      <td>1.76</td>\n",
       "      <td>1.98</td>\n",
       "      <td>2.79</td>\n",
       "      <td>2.12</td>\n",
       "      <td>3.65</td>\n",
       "      <td>2.60</td>\n",
       "      <td>2.44</td>\n",
       "      <td>3.45</td>\n",
       "      <td>1.34</td>\n",
       "      <td>1.33</td>\n",
       "      <td>1.61</td>\n",
       "    </tr>\n",
       "    <tr>\n",
       "      <td>3</td>\n",
       "      <td>594265291d1422030c8b45f4</td>\n",
       "      <td>1.78</td>\n",
       "      <td>3.50</td>\n",
       "      <td>4.85</td>\n",
       "      <td>2.01</td>\n",
       "      <td>1.77</td>\n",
       "      <td>1.94</td>\n",
       "      <td>1.80</td>\n",
       "      <td>2.28</td>\n",
       "      <td>2.16</td>\n",
       "      <td>4.95</td>\n",
       "      <td>2.11</td>\n",
       "      <td>2.50</td>\n",
       "      <td>4.80</td>\n",
       "      <td>1.29</td>\n",
       "      <td>1.17</td>\n",
       "      <td>2.03</td>\n",
       "    </tr>\n",
       "    <tr>\n",
       "      <td>4</td>\n",
       "      <td>5a0862a91d1422425d8b4567</td>\n",
       "      <td>1.96</td>\n",
       "      <td>2.98</td>\n",
       "      <td>3.25</td>\n",
       "      <td>2.17</td>\n",
       "      <td>1.44</td>\n",
       "      <td>1.89</td>\n",
       "      <td>1.60</td>\n",
       "      <td>2.56</td>\n",
       "      <td>1.87</td>\n",
       "      <td>3.90</td>\n",
       "      <td>2.33</td>\n",
       "      <td>2.10</td>\n",
       "      <td>3.60</td>\n",
       "      <td>1.22</td>\n",
       "      <td>1.18</td>\n",
       "      <td>1.56</td>\n",
       "    </tr>\n",
       "  </tbody>\n",
       "</table>\n",
       "</div>"
      ],
      "text/plain": [
       "                         ID  MRFT_HOME  MRFT_DRAW  MRFT_AWAY  OUFT2.5_OVER  \\\n",
       "0  5a22b9dd1d14229d5d8b4569       1.63       3.90       4.30          1.52   \n",
       "1  5942651c1d1422030c8b4586       6.00       3.70       1.62          1.96   \n",
       "2  5942651c1d1422030c8b4587       2.30       3.15       3.30          1.96   \n",
       "3  594265291d1422030c8b45f4       1.78       3.50       4.85          2.01   \n",
       "4  5a0862a91d1422425d8b4567       1.96       2.98       3.25          2.17   \n",
       "\n",
       "   OUFT2.5_UNDER  BTS_YES  BTS_NO  MRHT_HOME  MRHT_DRAW  MRHT_AWAY  MRSH_HOME  \\\n",
       "0           2.27     1.58    2.13       2.10       2.47       4.50       1.90   \n",
       "1           1.81     1.94    1.80       5.80       2.22       2.08       5.60   \n",
       "2           1.81     1.76    1.98       2.79       2.12       3.65       2.60   \n",
       "3           1.77     1.94    1.80       2.28       2.16       4.95       2.11   \n",
       "4           1.44     1.89    1.60       2.56       1.87       3.90       2.33   \n",
       "\n",
       "   MRSH_DRAW  MRSH_AWAY  DCFT_HOME_AWAY  DCFT_HOME_DRAW  DCFT_DRAW_AWAY  \n",
       "0       2.76       4.25            1.21            1.18            2.11  \n",
       "1       2.59       1.92            1.27            2.28            1.12  \n",
       "2       2.44       3.45            1.34            1.33            1.61  \n",
       "3       2.50       4.80            1.29            1.17            2.03  \n",
       "4       2.10       3.60            1.22            1.18            1.56  "
      ]
     },
     "execution_count": 215,
     "metadata": {},
     "output_type": "execute_result"
    }
   ],
   "source": [
    "df.head()"
   ]
  },
  {
   "cell_type": "code",
   "execution_count": 216,
   "metadata": {},
   "outputs": [],
   "source": [
    "dep_var = 'DCFT_HOME_AWAY'\n",
    "cont_names = ['MRFT_HOME', 'MRFT_DRAW', 'MRFT_AWAY', 'OUFT2.5_OVER', 'OUFT2.5_UNDER', 'BTS_YES', 'BTS_NO']\n",
    "cat_names = []\n",
    "procs = []"
   ]
  },
  {
   "cell_type": "code",
   "execution_count": 217,
   "metadata": {},
   "outputs": [],
   "source": [
    "test = TabularList.from_df(df.iloc[800:1500].copy(), path=path, cat_names=cat_names, cont_names=cont_names)"
   ]
  },
  {
   "cell_type": "code",
   "execution_count": 218,
   "metadata": {},
   "outputs": [],
   "source": [
    "data = (TabularList.from_df(df, path=path, cat_names=cat_names, cont_names=cont_names, procs=procs)\n",
    "                           .split_by_idx(list(range(800,1500)))\n",
    "                           .label_from_df(cols=dep_var)\n",
    "                           .add_test(test, label=0)\n",
    "                           .databunch())"
   ]
  },
  {
   "cell_type": "code",
   "execution_count": 219,
   "metadata": {},
   "outputs": [
    {
     "data": {
      "text/html": [
       "<table border=\"1\" class=\"dataframe\">\n",
       "  <thead>\n",
       "    <tr style=\"text-align: right;\">\n",
       "      <th>MRFT_HOME</th>\n",
       "      <th>MRFT_DRAW</th>\n",
       "      <th>MRFT_AWAY</th>\n",
       "      <th>OUFT2.5_OVER</th>\n",
       "      <th>OUFT2.5_UNDER</th>\n",
       "      <th>BTS_YES</th>\n",
       "      <th>BTS_NO</th>\n",
       "      <th>target</th>\n",
       "    </tr>\n",
       "  </thead>\n",
       "  <tbody>\n",
       "    <tr>\n",
       "      <td>2.2200</td>\n",
       "      <td>3.3000</td>\n",
       "      <td>2.8500</td>\n",
       "      <td>1.8800</td>\n",
       "      <td>1.7500</td>\n",
       "      <td>1.6300</td>\n",
       "      <td>2.0500</td>\n",
       "      <td>1.25</td>\n",
       "    </tr>\n",
       "    <tr>\n",
       "      <td>2.5900</td>\n",
       "      <td>3.5500</td>\n",
       "      <td>2.2900</td>\n",
       "      <td>1.5500</td>\n",
       "      <td>2.1800</td>\n",
       "      <td>1.4400</td>\n",
       "      <td>2.4500</td>\n",
       "      <td>1.21</td>\n",
       "    </tr>\n",
       "    <tr>\n",
       "      <td>2.6500</td>\n",
       "      <td>3.2000</td>\n",
       "      <td>2.3000</td>\n",
       "      <td>1.8600</td>\n",
       "      <td>1.6800</td>\n",
       "      <td>1.6000</td>\n",
       "      <td>2.0600</td>\n",
       "      <td>1.24</td>\n",
       "    </tr>\n",
       "    <tr>\n",
       "      <td>2.5900</td>\n",
       "      <td>3.2000</td>\n",
       "      <td>2.5900</td>\n",
       "      <td>2.0900</td>\n",
       "      <td>1.6600</td>\n",
       "      <td>1.7100</td>\n",
       "      <td>2.0100</td>\n",
       "      <td>1.28</td>\n",
       "    </tr>\n",
       "    <tr>\n",
       "      <td>1.4600</td>\n",
       "      <td>4.2000</td>\n",
       "      <td>5.5000</td>\n",
       "      <td>1.4900</td>\n",
       "      <td>2.3300</td>\n",
       "      <td>1.5900</td>\n",
       "      <td>2.1100</td>\n",
       "      <td>1.15</td>\n",
       "    </tr>\n",
       "  </tbody>\n",
       "</table>"
      ],
      "text/plain": [
       "<IPython.core.display.HTML object>"
      ]
     },
     "metadata": {},
     "output_type": "display_data"
    }
   ],
   "source": [
    "data.show_batch(rows=5)"
   ]
  },
  {
   "cell_type": "code",
   "execution_count": 220,
   "metadata": {},
   "outputs": [],
   "source": [
    "learn = tabular_learner(data, layers=[200,100], metrics=mean_squared_error)"
   ]
  },
  {
   "cell_type": "code",
   "execution_count": 221,
   "metadata": {},
   "outputs": [
    {
     "data": {
      "text/html": [
       "<table border=\"1\" class=\"dataframe\">\n",
       "  <thead>\n",
       "    <tr style=\"text-align: left;\">\n",
       "      <th>epoch</th>\n",
       "      <th>train_loss</th>\n",
       "      <th>valid_loss</th>\n",
       "      <th>mean_squared_error</th>\n",
       "      <th>time</th>\n",
       "    </tr>\n",
       "  </thead>\n",
       "  <tbody>\n",
       "    <tr>\n",
       "      <td>0</td>\n",
       "      <td>0.002133</td>\n",
       "      <td>0.004486</td>\n",
       "      <td>0.004486</td>\n",
       "      <td>00:05</td>\n",
       "    </tr>\n",
       "    <tr>\n",
       "      <td>1</td>\n",
       "      <td>0.000967</td>\n",
       "      <td>0.000471</td>\n",
       "      <td>0.000471</td>\n",
       "      <td>00:05</td>\n",
       "    </tr>\n",
       "    <tr>\n",
       "      <td>2</td>\n",
       "      <td>0.000697</td>\n",
       "      <td>0.001121</td>\n",
       "      <td>0.001121</td>\n",
       "      <td>00:05</td>\n",
       "    </tr>\n",
       "    <tr>\n",
       "      <td>3</td>\n",
       "      <td>0.000679</td>\n",
       "      <td>0.000755</td>\n",
       "      <td>0.000755</td>\n",
       "      <td>00:05</td>\n",
       "    </tr>\n",
       "    <tr>\n",
       "      <td>4</td>\n",
       "      <td>0.000560</td>\n",
       "      <td>0.000989</td>\n",
       "      <td>0.000989</td>\n",
       "      <td>00:05</td>\n",
       "    </tr>\n",
       "  </tbody>\n",
       "</table>"
      ],
      "text/plain": [
       "<IPython.core.display.HTML object>"
      ]
     },
     "metadata": {},
     "output_type": "display_data"
    }
   ],
   "source": [
    "learn.fit(5, 1e-2)"
   ]
  },
  {
   "cell_type": "code",
   "execution_count": 222,
   "metadata": {},
   "outputs": [],
   "source": [
    "learn.unfreeze()"
   ]
  },
  {
   "cell_type": "code",
   "execution_count": 223,
   "metadata": {},
   "outputs": [
    {
     "data": {
      "text/html": [],
      "text/plain": [
       "<IPython.core.display.HTML object>"
      ]
     },
     "metadata": {},
     "output_type": "display_data"
    },
    {
     "name": "stdout",
     "output_type": "stream",
     "text": [
      "LR Finder is complete, type {learner_name}.recorder.plot() to see the graph.\n"
     ]
    },
    {
     "data": {
      "image/png": "[encoded data removed]",
      "text/plain": [
       "<Figure size 432x288 with 1 Axes>"
      ]
     },
     "metadata": {
      "needs_background": "light"
     },
     "output_type": "display_data"
    }
   ],
   "source": [
    "learn.lr_find()\n",
    "learn.recorder.plot()"
   ]
  },
  {
   "cell_type": "code",
   "execution_count": 224,
   "metadata": {},
   "outputs": [
    {
     "data": {
      "text/html": [
       "<table border=\"1\" class=\"dataframe\">\n",
       "  <thead>\n",
       "    <tr style=\"text-align: left;\">\n",
       "      <th>epoch</th>\n",
       "      <th>train_loss</th>\n",
       "      <th>valid_loss</th>\n",
       "      <th>mean_squared_error</th>\n",
       "      <th>time</th>\n",
       "    </tr>\n",
       "  </thead>\n",
       "  <tbody>\n",
       "    <tr>\n",
       "      <td>0</td>\n",
       "      <td>0.000387</td>\n",
       "      <td>0.001040</td>\n",
       "      <td>0.001040</td>\n",
       "      <td>00:05</td>\n",
       "    </tr>\n",
       "    <tr>\n",
       "      <td>1</td>\n",
       "      <td>0.000421</td>\n",
       "      <td>0.000243</td>\n",
       "      <td>0.000243</td>\n",
       "      <td>00:05</td>\n",
       "    </tr>\n",
       "    <tr>\n",
       "      <td>2</td>\n",
       "      <td>0.000368</td>\n",
       "      <td>0.000347</td>\n",
       "      <td>0.000347</td>\n",
       "      <td>00:05</td>\n",
       "    </tr>\n",
       "    <tr>\n",
       "      <td>3</td>\n",
       "      <td>0.000330</td>\n",
       "      <td>0.000565</td>\n",
       "      <td>0.000565</td>\n",
       "      <td>00:05</td>\n",
       "    </tr>\n",
       "    <tr>\n",
       "      <td>4</td>\n",
       "      <td>0.000349</td>\n",
       "      <td>0.000955</td>\n",
       "      <td>0.000955</td>\n",
       "      <td>00:05</td>\n",
       "    </tr>\n",
       "    <tr>\n",
       "      <td>5</td>\n",
       "      <td>0.000330</td>\n",
       "      <td>0.000705</td>\n",
       "      <td>0.000705</td>\n",
       "      <td>00:05</td>\n",
       "    </tr>\n",
       "    <tr>\n",
       "      <td>6</td>\n",
       "      <td>0.000357</td>\n",
       "      <td>0.000547</td>\n",
       "      <td>0.000547</td>\n",
       "      <td>00:05</td>\n",
       "    </tr>\n",
       "    <tr>\n",
       "      <td>7</td>\n",
       "      <td>0.000281</td>\n",
       "      <td>0.000332</td>\n",
       "      <td>0.000332</td>\n",
       "      <td>00:05</td>\n",
       "    </tr>\n",
       "    <tr>\n",
       "      <td>8</td>\n",
       "      <td>0.000305</td>\n",
       "      <td>0.000453</td>\n",
       "      <td>0.000453</td>\n",
       "      <td>00:05</td>\n",
       "    </tr>\n",
       "    <tr>\n",
       "      <td>9</td>\n",
       "      <td>0.000305</td>\n",
       "      <td>0.000790</td>\n",
       "      <td>0.000790</td>\n",
       "      <td>00:05</td>\n",
       "    </tr>\n",
       "  </tbody>\n",
       "</table>"
      ],
      "text/plain": [
       "<IPython.core.display.HTML object>"
      ]
     },
     "metadata": {},
     "output_type": "display_data"
    }
   ],
   "source": [
    "learn.fit(10, 1e-3)"
   ]
  },
  {
   "cell_type": "markdown",
   "metadata": {},
   "source": [
    "## Prod"
   ]
  },
  {
   "cell_type": "code",
   "execution_count": 226,
   "metadata": {},
   "outputs": [],
   "source": [
    "learn.export(file='dcft-home-away.pkl')"
   ]
  },
  {
   "cell_type": "code",
   "execution_count": 227,
   "metadata": {},
   "outputs": [],
   "source": [
    "learn = load_learner(path, file='dcft-home-away.pkl')"
   ]
  },
  {
   "cell_type": "code",
   "execution_count": 228,
   "metadata": {},
   "outputs": [
    {
     "data": {
      "text/plain": [
       "pandas.core.series.Series"
      ]
     },
     "execution_count": 228,
     "metadata": {},
     "output_type": "execute_result"
    }
   ],
   "source": [
    "row = df.iloc[0]\n",
    "row.__class__"
   ]
  },
  {
   "cell_type": "code",
   "execution_count": 229,
   "metadata": {},
   "outputs": [
    {
     "data": {
      "text/plain": [
       "(FloatItem [1.201651], tensor([1.2017]), tensor([1.2017]))"
      ]
     },
     "execution_count": 229,
     "metadata": {},
     "output_type": "execute_result"
    }
   ],
   "source": [
    "learn.predict(row)"
   ]
  },
  {
   "cell_type": "code",
   "execution_count": 230,
   "metadata": {},
   "outputs": [
    {
     "data": {
      "text/plain": [
       "(FloatItem [1.268831], tensor([1.2688]), tensor([1.2688]))"
      ]
     },
     "execution_count": 230,
     "metadata": {},
     "output_type": "execute_result"
    }
   ],
   "source": [
    "# manual example 1\n",
    "test = pd.Series({'MRFT_HOME':2.6,\n",
    "                  'MRFT_DRAW':3.3,\n",
    "                  'MRFT_AWAY':2.6,\n",
    "                  'OUFT2.5_OVER':1.86,\n",
    "                  'OUFT2.5_UNDER':1.86,\n",
    "                  'BTS_YES':1.71,\n",
    "                  'BTS_NO':2.01})\n",
    "learn.predict(test) # 1/2=1.26 1/X=1.41 X/2=1.41"
   ]
  },
  {
   "cell_type": "code",
   "execution_count": 231,
   "metadata": {},
   "outputs": [
    {
     "data": {
      "text/plain": [
       "(FloatItem [1.258653], tensor([1.2587]), tensor([1.2587]))"
      ]
     },
     "execution_count": 231,
     "metadata": {},
     "output_type": "execute_result"
    }
   ],
   "source": [
    "# manual example 2\n",
    "test = pd.Series({'MRFT_HOME':1.8,\n",
    "                  'MRFT_DRAW':3.55,\n",
    "                  'MRFT_AWAY':4.25,\n",
    "                  'OUFT2.5_OVER':1.93,\n",
    "                  'OUFT2.5_UNDER':1.8,\n",
    "                  'BTS_YES':1.85,\n",
    "                  'BTS_NO':1.85})\n",
    "learn.predict(test) # 1/2=1.23 1/X=1.16 X/2=1.88"
   ]
  },
  {
   "cell_type": "code",
   "execution_count": 232,
   "metadata": {},
   "outputs": [
    {
     "data": {
      "text/plain": [
       "(FloatItem [1.244316], tensor([1.2443]), tensor([1.2443]))"
      ]
     },
     "execution_count": 232,
     "metadata": {},
     "output_type": "execute_result"
    }
   ],
   "source": [
    "# manual example 2\n",
    "test = pd.Series({'MRFT_HOME':1.93,\n",
    "                  'MRFT_DRAW':3.45,\n",
    "                  'MRFT_AWAY':3.5,\n",
    "                  'OUFT2.5_OVER':1.74,\n",
    "                  'OUFT2.5_UNDER':1.93,\n",
    "                  'BTS_YES':1.61,\n",
    "                  'BTS_NO':2.12})\n",
    "learn.predict(test) # 1/2=1.22 1/X=1.21 X/2=1.7"
   ]
  }
 ],
 "metadata": {
  "kernelspec": {
   "display_name": "Python 3",
   "language": "python",
   "name": "python3"
  },
  "language_info": {
   "codemirror_mode": {
    "name": "ipython",
    "version": 3
   },
   "file_extension": ".py",
   "mimetype": "text/x-python",
   "name": "python",
   "nbconvert_exporter": "python",
   "pygments_lexer": "ipython3",
   "version": "3.6.8"
  }
 },
 "nbformat": 4,
 "nbformat_minor": 2
}
